{
 "cells": [
  {
   "cell_type": "markdown",
   "id": "2b6051c4",
   "metadata": {},
   "source": [
    "<div align=\"center\">\n",
    "    <h1>Υπολογιστική Γεωμετρία (1η Εργασία)</h1>\n",
    "</div>"
   ]
  },
  {
   "cell_type": "markdown",
   "id": "7272e9c7",
   "metadata": {},
   "source": [
    "### **Ρυθμίσεις Γραφικών**\n",
    "Παρακάτω ορίσουμε μερικές ρυθμίσεις οι οποίες θα φέρουν μία **καλύτερη οπτικοποίηση** των αποτελεσμάτων που θα εξάγουμε στην συνέχεια. Κάποιες από αυτές μπορείτε και να **επεξεργαστείτε**, και να τις διαμορφώσετε ανάλογα με τις προτιμήσεις σας."
   ]
  },
  {
   "cell_type": "code",
   "execution_count": 1,
   "id": "d0d0d8d3",
   "metadata": {},
   "outputs": [],
   "source": [
    "from matplotlib import pyplot as plt\n",
    "\n",
    "# Change this according to your theme. \n",
    "# For dark theme use 'dark_background'\n",
    "# For light theme use 'default'\n",
    "plots_theme = \"default\"\n",
    "\n",
    "plt.style.use(plots_theme)\n",
    "grid_color = \"#373737\" if plots_theme == 'dark_background' else \"#CDCDCD\""
   ]
  },
  {
   "cell_type": "markdown",
   "id": "f3cea29e",
   "metadata": {},
   "source": [
    "### Ορισμός Σημείου (Point Definition)\n",
    "Θα ξεκινήσουμε την υλοποίησή μας ορίζοντας τη **γενική κλάση** που θα αναπαριστά ένα **σημείο** στο $\\mathbb{R}^2$ με συντεταγμένες $x$ και $y$."
   ]
  },
  {
   "cell_type": "code",
   "execution_count": 2,
   "id": "412da041",
   "metadata": {
    "hide_input": false
   },
   "outputs": [],
   "source": [
    "class Vector2D:\n",
    "    def __init__(self, x: float, y: float):\n",
    "        self.x = x\n",
    "        self.y = y\n",
    "\n",
    "    def __repr__(self):\n",
    "        return f\"({self.x:.3f}, {self.y:.3f})\"\n"
   ]
  },
  {
   "cell_type": "markdown",
   "id": "df73cb51",
   "metadata": {
    "hide_input": false
   },
   "source": [
    "### Ορισμός Κυρτού Περιβλήματος (Convex Hull Definition)\n",
    "Θα συνεχίσουμε ορίζοντας τη **κλάση** η οποία θα αναπαριστά ένα **κυρτό περίβλημα**, το οποίο θα αποτελείται από **σημεία** στον $\\mathbb{R}^2$ χώρο, καθώς και **ακμές** οι οποίες θα υποδηλώνουν τις άκρες του περιβλήματος."
   ]
  },
  {
   "cell_type": "code",
   "execution_count": 3,
   "id": "7038ffe6",
   "metadata": {
    "hide_input": false
   },
   "outputs": [],
   "source": [
    "import numpy as np\n",
    "from matplotlib import pyplot as plt\n",
    "\n",
    "class Convex_Hull:\n",
    "  def __init__(self, points: np.ndarray[Vector2D], hull_points: np.ndarray[Vector2D]):\n",
    "    self.points = points\n",
    "    self.hull_points = hull_points\n",
    "    self.edges = self.__construct_edges(hull_points)\n",
    "\n",
    "  def __construct_edges(self, hull_points: np.ndarray[Vector2D]):\n",
    "    \"\"\" Constructs the edges list of the convex hull. \"\"\"\n",
    "    edges = []\n",
    "\n",
    "    for i in range(len(hull_points) - 1):\n",
    "        edges.append((hull_points[i], hull_points[i + 1]))\n",
    "    edges.append((hull_points[-1], hull_points[0]))\n",
    "\n",
    "    return edges\n",
    "\n",
    "  def __repr__(self):\n",
    "    return f\"Convex_Hull\\n-points={self.points}\\n-edges={self.edges}\"\n",
    "\n",
    "  def __eq__(self, other):\n",
    "    \"\"\" Checks whether two convex hulls are the same. \"\"\"\n",
    "    points_equality: bool = self.points == other.points\n",
    "    hull_points_equality: bool = self.hull_points == other.hull_points\n",
    "    edges_equality: bool = self.edges == other.edges\n",
    "    \n",
    "    return points_equality and hull_points_equality and edges_equality\n",
    "  \n",
    "  def plot(self, axes: plt.axes = None, title: str = \"\"):\n",
    "    \"\"\"\n",
    "    Plots the convex hull. This function will plot the points and edges of the convex hull.\n",
    "    \"\"\"\n",
    "    if axes is not None:\n",
    "      axes.scatter([point.x for point in self.points], [point.y for point in self.points], color='#339AFF', s=10)\n",
    "\n",
    "      # Plot the edges of the convex hull\n",
    "      for edge in self.edges:\n",
    "        axes.plot([edge[0].x, edge[1].x], [edge[0].y, edge[1].y], color='#25CA2B')\n",
    "\n",
    "      axes.axis('off')\n",
    "      axes.set_title(title)\n",
    "    else:\n",
    "      plt.scatter([point.x for point in self.points], [point.y for point in self.points], color='#339AFF', s=10)\n",
    "\n",
    "      # Plot the edges of the convex hull\n",
    "      for edge in self.edges:\n",
    "        plt.plot([edge[0].x, edge[1].x], [edge[0].y, edge[1].y], color='#25CA2B')\n",
    "\n",
    "      plt.axis('off')\n",
    "      plt.title(title)\n",
    "      plt.show()"
   ]
  },
  {
   "cell_type": "markdown",
   "id": "b169996c",
   "metadata": {},
   "source": [
    "### Ορισμός Γενικής Έννοιας του Αλγορίθμου Εύρεσης ΚΠ2\n",
    "Στη συνέχεια θα ορίσουμε τη **γενική αφηρημένη κλάση** (abstract) του αλγορίθμου **εύρεσης** ενός **κυρτού περιβλήματος**. Κάθε αλγόριθμος που θα υλοποιήσουμε στη συνέχεια θα **κληρονομεί** αυτή την κλάση και δωσμένου ενός συνόλου από σημεία, θα υλοποιεί τη δικιά του μέθοδο εύρεσης του κυρτού περιβλήματος."
   ]
  },
  {
   "cell_type": "code",
   "execution_count": 4,
   "id": "7c590e26",
   "metadata": {},
   "outputs": [],
   "source": [
    "import numpy as np\n",
    "from abc import ABC, abstractmethod\n",
    "\n",
    "\n",
    "class ConvexHullSolutionAlgorithm(ABC):\n",
    "\n",
    "  @abstractmethod\n",
    "  def __call__(self, points: np.ndarray[Vector2D]) -> np.ndarray[Vector2D]:\n",
    "    ...\n"
   ]
  },
  {
   "cell_type": "markdown",
   "id": "f2265aac",
   "metadata": {},
   "source": [
    "### Κατασκευή βοηθητικών συναρτήσεων\n",
    "Πρωτού ασχοληθούμε με τον πρώτο αλγόριθμό μας, θα ορίσουμε μερικές συναρτήσεις οι οποίες θα μας βοηθήσουν με τη κατασκευή των αλγορίθμων μας. Συγκεκριμένα θα ορίσουμε μία συνάρτηση`are_collinear()` η οποία θα ελέγχει εάν **3 σημεία** στον $\\mathbb{R}^2$  είναι **συνευθειακά**, καθώς και άλλη μία συνάρτηση `is_between()` η οποία θα ελέγχει εάν ένα σημείο είναι **ανάμεσα** από άλλα δύο. \n",
    "\n",
    "Επομένως ο συνδιασμός των συναρτήσεων `are_collinear()` και `is_between()` θα μας δείχνει εάν ένα σημείο είναι **εσωτερικό σημείο** του ευθυγράμμου τμήματος που ορίσουν δύο άλλα σημεία. \n",
    "\n",
    "Επίσης θα ορίσουμε δύο συναρτήσεις `CCW()` και `CW()` οι οποίες θα μας βοηθήσουν με **κατηγορήματα προσανατολισμού** και θα δείχνουν εάν 3 σημεία ορίζουν **θετική** ή **αρνητική** στροφή."
   ]
  },
  {
   "cell_type": "code",
   "execution_count": 5,
   "id": "e0b583f8",
   "metadata": {},
   "outputs": [],
   "source": [
    "def are_collinear(p1: Vector2D, p2: Vector2D, p3: Vector2D) -> bool:\n",
    "    # Check for vertical line to avoid division by zero\n",
    "    if p2.x - p1.x == 0 or p3.x - p2.x == 0:\n",
    "        return p2.x - p1.x == p3.x - p2.x\n",
    "    \n",
    "    # Calculate slopes\n",
    "    slope1 = (p2.y - p1.y) / (p2.x - p1.x)\n",
    "    slope2 = (p3.y - p2.y) / (p3.x - p2.x)\n",
    "    \n",
    "    return slope1 == slope2\n",
    "\n",
    "def is_between(p2: Vector2D, p1: Vector2D, p3: Vector2D) -> bool:\n",
    "    \"\"\" Checks whether p1, p2 and p3 are collinear and p2 is between p1 and p3. \"\"\"\n",
    "    return (\n",
    "        min(p1.x, p3.x) <= p2.x <= max(p1.x, p3.x) and\n",
    "        min(p1.y, p3.y) <= p2.y <= max(p1.y, p3.y)\n",
    "    )\n",
    "\n",
    "def CCW(p1: Vector2D, p2: Vector2D, p3: Vector2D) -> bool:\n",
    "    # Define the supporting matrix for the three points to determine the orientation of the points\n",
    "    matrix: np.ndarray[np.ndarray[float]] = np.array([\n",
    "      [1, p1.x, p1.y], \n",
    "      [1, p2.x, p2.y], \n",
    "      [1, p3.x, p3.y]\n",
    "    ])\n",
    "    return np.linalg.det(matrix)\n",
    "\n"
   ]
  },
  {
   "cell_type": "markdown",
   "id": "8d639569",
   "metadata": {},
   "source": [
    "### Ορισμός Αυξητικού Αλγορίθμου (Graham's Scan Algorithm)\n",
    "Θα ξεκινήσουμε ορίζοντας τον πρώτο μας αλγόριθμο, ο οποίος είναι ο **Ααυξητικός Αλγόριθμος** (Graham's Scan Algorithm). Ο αλγόριθμος αναπαριστάται με μία κλάση όπως φαίνεται παρακάτω όπου μπορεί κάποιος να τον καλέσει χρησιμοποιώντας τη μέθοδο `__call__()`."
   ]
  },
  {
   "cell_type": "code",
   "execution_count": 6,
   "id": "54c2fce5",
   "metadata": {},
   "outputs": [],
   "source": [
    "import numpy as np\n",
    "\n",
    "class GrahamScanAlgorithm(ConvexHullSolutionAlgorithm):\n",
    "  def __construct_upper_hull(self, points: np.ndarray[Vector2D]) -> np.ndarray[Vector2D]:\n",
    "    L_upper: np.ndarray[Vector2D] = [points[0], points[1]]\n",
    "\n",
    "    # Construct the upper hull of the convex hull\n",
    "    for i in range(2, len(points)):\n",
    "      L_upper.append(points[i])\n",
    "      while len(L_upper) > 2 and not CCW(L_upper[-3], L_upper[-2], L_upper[-1]) < 0:\n",
    "        L_upper.pop(-2)\n",
    "\n",
    "    return L_upper\n",
    "  \n",
    "  def __construct_lower_hull(self, points: np.ndarray[Vector2D]) -> np.ndarray[Vector2D]:\n",
    "    L_lower: np.ndarray[Vector2D] = [points[-1], points[-2]]\n",
    "\n",
    "    # Construct the lower hull of the convex hull\n",
    "    for i in range(len(points) - 3, -1, -1):\n",
    "      L_lower.append(points[i])\n",
    "      while len(L_lower) > 2 and not CCW(L_lower[-3], L_lower[-2], L_lower[-1]) < 0:\n",
    "        L_lower.pop(-2)\n",
    "\n",
    "    # Remove the first and last points from L_lower to avoid duplication\n",
    "    L_lower.pop(0)\n",
    "    L_lower.pop(-1)\n",
    "\n",
    "    return L_lower\n",
    "\n",
    "  def __call__(self, points: np.ndarray[Vector2D]) -> np.ndarray[Vector2D]:\n",
    "    # Sort the points by their x-coordinate, then by their y-coordinate, and insert p1 and p2 to the L_upper set\n",
    "    points: np.ndarray[Vector2D] = sorted(points, key=lambda p: (p.x, p.y))\n",
    "    \n",
    "    # Construct the upper and lower hulls of the convex hull\n",
    "    L_upper: np.ndarray[Vector2D] = self.__construct_upper_hull(points)\n",
    "    L_lower: np.ndarray[Vector2D] = self.__construct_lower_hull(points)\n",
    "\n",
    "    # Merge the L_upper and L_lower sets to form the convex hull and return the result\n",
    "    L: np.ndarray[Vector2D] = L_upper + L_lower\n",
    "\n",
    "    return L"
   ]
  },
  {
   "cell_type": "markdown",
   "id": "825e3b34",
   "metadata": {},
   "source": [
    "### Δοκιμή Αλγορίθμου\n",
    "Ας δοκιμάσουμε τον αλγόριθμό. Για αρχή θα αρχικοποιήσουμε ένα σύνολο με **100 τυχαία** σημεία στο $\\mathbb{R}^2$ χώρο. θα δημιουργήσουμε **δύο** σύνολα δεδομένων. Το ένα σύνολο θα περιέχει τυχαία δεδομένα όπου το χωρίο που θα καταλαμβάνουν χώρο με **ορθογωνιακό** σχήμα, και το δεύτερο σύνολο θα περιέχει δεδομένα τα οποία θα καταλαμβάνουν χώρο με **κυκλικό** σχήμα."
   ]
  },
  {
   "cell_type": "code",
   "execution_count": 7,
   "id": "8460fd92",
   "metadata": {},
   "outputs": [],
   "source": [
    "import numpy as np\n",
    "\n",
    "POINTS_COUNT = 100\n",
    "\n",
    "# Generate the rectangle set containing the random points\n",
    "rectangle_points_set: np.ndarray[Vector2D] = []\n",
    "for i in range(POINTS_COUNT):\n",
    "  random_point = Vector2D(x=np.random.sample(), y=np.random.sample())\n",
    "  rectangle_points_set.append(random_point)\n",
    "\n",
    "# Generate the circular set containing the random points\n",
    "circular_points_set: np.ndarray[Vector2D] = []\n",
    "for i in range(POINTS_COUNT):\n",
    "  angle = np.random.uniform(0, 2 * np.pi)\n",
    "  radius = np.random.uniform(0, 1)\n",
    "  x, y = radius * np.cos(angle), radius * np.sin(angle)\n",
    "  random_point = Vector2D(x, y)\n",
    "  circular_points_set.append(Vector2D(x, y))\n"
   ]
  },
  {
   "cell_type": "markdown",
   "id": "48457c4d",
   "metadata": {},
   "source": [
    "Για να καταλάβουμε καλύτερα αυτά τα σύνολα δεδομένων, ας τα **οπτικοποιήσουμε**."
   ]
  },
  {
   "cell_type": "code",
   "execution_count": 8,
   "id": "26f465b4",
   "metadata": {
    "hide_input": false
   },
   "outputs": [
    {
     "data": {
      "image/png": "[encoded data removed]",
      "text/plain": [
       "<Figure size 1300x600 with 2 Axes>"
      ]
     },
     "metadata": {},
     "output_type": "display_data"
    }
   ],
   "source": [
    "figure, axes = plt.subplots(1, 2, figsize=(13, 6))\n",
    "\n",
    "for s_point, c_point in zip(rectangle_points_set, circular_points_set):\n",
    "  axes[0].scatter(s_point.x, s_point.y, color='#339AFF', s=8)\n",
    "  axes[1].scatter(c_point.x, c_point.y, color='#339AFF', s=8)\n",
    "\n",
    "axes[0].set_title('Rectangle Points Set\\n', fontsize=16)\n",
    "axes[0].axis('off')\n",
    "axes[1].set_title('Circular Points Set\\n', fontsize=16)\n",
    "axes[1].axis('off')\n",
    "\n",
    "plt.show()"
   ]
  },
  {
   "cell_type": "markdown",
   "id": "a228abbc",
   "metadata": {},
   "source": [
    "### Εύρεση του κυρτού περιβλήματος (Convex Hull Calculation)\n",
    "Έχοντας δημιουργήσει τα σύνολα δεδομένων μας, ήρθε η ώρα να δοκιμάσουμε τον αλγόριθμό μας."
   ]
  },
  {
   "cell_type": "code",
   "execution_count": 9,
   "id": "e5a12d94",
   "metadata": {},
   "outputs": [
    {
     "data": {
      "image/png": "[encoded data removed]",
      "text/plain": [
       "<Figure size 1300x600 with 2 Axes>"
      ]
     },
     "metadata": {},
     "output_type": "display_data"
    }
   ],
   "source": [
    "# Initialize the algorithm\n",
    "gs_algorithm = GrahamScanAlgorithm()\n",
    "\n",
    "# Compute the convex hull for the rectangle and the circular points set\n",
    "rect_gs_result = gs_algorithm(np.array(rectangle_points_set))\n",
    "circ_gs_result = gs_algorithm(np.array(circular_points_set))\n",
    "\n",
    "# Create the convex hull objects\n",
    "rect_convex_hull = Convex_Hull(rectangle_points_set, rect_gs_result)\n",
    "circ_convex_hull = Convex_Hull(circular_points_set, circ_gs_result)\n",
    "\n",
    "# Plot the convex hulls\n",
    "figure, axes = plt.subplots(1, 2, figsize=(13, 6))\n",
    "rect_convex_hull.plot(axes[0], title=\"Rectangle Convex Hull\")\n",
    "circ_convex_hull.plot(axes[1], title=\"Circular Convex Hull\")"
   ]
  },
  {
   "cell_type": "markdown",
   "id": "417a0c31",
   "metadata": {},
   "source": [
    "Όπως παρατηρούμε από τα παραπάνω διαγράμματα, ο αλγόριθμός μας λειτούργησε αποτελεσματικά για τα δύο σύνολα δεδομένων."
   ]
  },
  {
   "cell_type": "markdown",
   "id": "360940d7",
   "metadata": {},
   "source": [
    "### Αλγόριθμος Περιτυλίγματος (Gift Wrapping)\n",
    "Θα συνεχίσουμε υλοποιώντας τους υπόλοιπους αλγορίθμους, ξεκινώντας με τον **Αλγόριθμο Του Περιτυλίγματος** (Gift Wrapping Algorithm)"
   ]
  },
  {
   "cell_type": "code",
   "execution_count": 10,
   "id": "9c8f9c6e",
   "metadata": {},
   "outputs": [],
   "source": [
    "class GiftWrappingAlgorithm(ConvexHullSolutionAlgorithm):\n",
    "    def __call__(self, points: np.ndarray[Vector2D]) -> np.ndarray[Vector2D]:\n",
    "        # Create a copy of the points array and compute the leftmost point\n",
    "        S = points.copy()\n",
    "        r0 = min(S, key=lambda p: (p.x, p.y))\n",
    "        r = r0\n",
    "        \n",
    "        # Initialize the array containing the selcted points for the convex hull\n",
    "        selected_points: np.ndarray[Vector2D] = [r]\n",
    "        \n",
    "        while True:\n",
    "            # Let u be a point on the convex hull that has not been selected yet\n",
    "            remaining_points: np.ndarray[Vector2D] = [p for p in S if p not in selected_points]\n",
    "            u = remaining_points[0]\n",
    "            \n",
    "            # Check all the other points until we find the next prospective point for the hull points \n",
    "            for t in points:\n",
    "                if CCW(r, u, t) > 0 or (are_collinear(r, u, t) and is_between(u, r, t)):\n",
    "                    u = t\n",
    "            \n",
    "            # Check if the current point selected is the first point. If that is the case the process \n",
    "            # has been completed.\n",
    "            # Otherwise we append the point on the hull points and remove it from our points array.\n",
    "            if u == r0:\n",
    "                return selected_points\n",
    "            else:\n",
    "                r = u\n",
    "                S.remove(r)\n",
    "                selected_points.append(r)\n"
   ]
  },
  {
   "cell_type": "code",
   "execution_count": 11,
   "id": "91fba55b",
   "metadata": {},
   "outputs": [
    {
     "data": {
      "image/png": "[encoded data removed]",
      "text/plain": [
       "<Figure size 640x480 with 1 Axes>"
      ]
     },
     "metadata": {},
     "output_type": "display_data"
    }
   ],
   "source": [
    "gw_algorithm = GiftWrappingAlgorithm()\n",
    "result = gw_algorithm(rectangle_points_set)\n",
    "\n",
    "# Create the convex hull object\n",
    "convex_hull = Convex_Hull(rectangle_points_set, result)\n",
    "convex_hull.plot(title=\"Rectangle Convex Hull\")"
   ]
  },
  {
   "cell_type": "markdown",
   "id": "178c0e52",
   "metadata": {},
   "source": [
    "### Αλγόριθμος Διαίρει και Βασίλευε (Devide and conquer)"
   ]
  },
  {
   "cell_type": "code",
   "execution_count": 12,
   "id": "e54a07d8-4a0b-4eee-a7fb-85a7d3ec9cfc",
   "metadata": {},
   "outputs": [],
   "source": [
    "# class DevideAndConquerAlgorithm(ConvexHullSolutionAlgorithm):\n",
    "#     def __merge(self, A: np.ndarray[Vector2D], B: np.ndarray[Vector2D]) -> np.ndarray[Vector2D]:\n",
    "#         n1, n2 = len(A), len(B)\n",
    "\n",
    "#         # Find upper tangent\n",
    "#         left_index = n1 - 1\n",
    "#         right_index = 0\n",
    "\n",
    "#         while True:\n",
    "#             moved = False\n",
    "#             if CCW(A[left_index], B[right_index], B[(right_index + 1) % n2]):\n",
    "#                 right_index = (right_index + 1) % n2\n",
    "#                 moved = True\n",
    "#             if CW(B[right_index], A[left_index], A[(left_index - 1) % n1]):\n",
    "#                 left_index = (left_index - 1) % n1\n",
    "#                 moved = True\n",
    "#             if not moved:\n",
    "#                 break\n",
    "\n",
    "#         upper_left = left_index\n",
    "#         upper_right = right_index\n",
    "\n",
    "#         # Find lower tangent\n",
    "#         left_index = n1 - 1\n",
    "#         right_index = 0\n",
    "\n",
    "#         while True:\n",
    "#             moved = False\n",
    "#             if CW(A[left_index], B[right_index], B[(right_index - 1) % n2]):\n",
    "#                 right_index = (right_index - 1) % n2\n",
    "#                 moved = True\n",
    "#             if CCW(B[right_index], A[left_index], A[(left_index + 1) % n1]):\n",
    "#                 left_index = (left_index + 1) % n1\n",
    "#                 moved = True\n",
    "#             if not moved:\n",
    "#                 break\n",
    "\n",
    "#         lower_left = left_index\n",
    "#         lower_right = right_index\n",
    "\n",
    "#         # Merge hulls\n",
    "#         hull = []\n",
    "#         index = upper_left\n",
    "#         while index != lower_left:\n",
    "#             hull.append(A[index])\n",
    "#             index = (index + 1) % n1\n",
    "#         hull.append(A[lower_left])\n",
    "\n",
    "#         index = lower_right\n",
    "#         while index != upper_right:\n",
    "#             hull.append(B[index])\n",
    "#             index = (index + 1) % n2\n",
    "#         hull.append(B[upper_right])\n",
    "\n",
    "#         return hull\n",
    "            \n",
    "        \n",
    "#     def __call__(self, points: np.ndarray[Vector2D]) -> np.ndarray[Vector2D]:\n",
    "#         # Sort the points by their x-coordinate, then by their y-coordinate\n",
    "#         points = sorted(points, key=lambda p: (p.x, p.y))\n",
    "#         n: int = len(points)\n",
    "        \n",
    "#         # Base Case\n",
    "#         if n <= 3:\n",
    "#             return points\n",
    "        \n",
    "#         # Devide the set of points to two individual sub-sets\n",
    "#         left_points, right_points = points[:n//2], points[n//2:]\n",
    "\n",
    "#         # Recursive call of the algorithm for the two individual sub-sets\n",
    "#         left_result = self.__call__(left_points)\n",
    "#         right_result = self.__call__(right_points)\n",
    "\n",
    "#         # TODO: Merge the two hulls\n",
    "#         return self.__merge(left_result, right_result)"
   ]
  },
  {
   "cell_type": "code",
   "execution_count": 13,
   "id": "01679f36-17b5-47c1-bc08-e8794b6eb75f",
   "metadata": {},
   "outputs": [],
   "source": [
    "import numpy as np\n",
    "\n",
    "POINTS_COUNT = 100\n",
    "\n",
    "# Generate the rectangle set containing the random points\n",
    "rectangle_points_set: np.ndarray[Vector2D] = []\n",
    "for i in range(POINTS_COUNT):\n",
    "  random_point = Vector2D(x=np.random.sample(), y=np.random.sample())\n",
    "  rectangle_points_set.append(random_point)\n"
   ]
  },
  {
   "cell_type": "code",
   "execution_count": 14,
   "id": "9d900d75-753b-47da-bb41-c6e4d35cb9db",
   "metadata": {},
   "outputs": [],
   "source": [
    "# dq_algorithm = DevideAndConquerAlgorithm()\n",
    "# result = dq_algorithm(rectangle_points_set)\n",
    "\n",
    "# hull = Convex_Hull(rectangle_points_set, result)\n",
    "# hull.plot()"
   ]
  },
  {
   "cell_type": "markdown",
   "id": "e17e41a7",
   "metadata": {},
   "source": [
    "### Αλγόριθμος Quick Hull"
   ]
  },
  {
   "cell_type": "code",
   "execution_count": 17,
   "id": "27214f39",
   "metadata": {},
   "outputs": [],
   "source": [
    "class QuickHullAlgorithm(ConvexHullSolutionAlgorithm):\n",
    "    def __get_distance(self, A: Vector2D, B: Vector2D, p: Vector2D) -> float:\n",
    "        numerator = abs((B.y - A.y) * p.x - (B.x - A.x) * p.y + B.x * A.y - B.y * A.x)\n",
    "        denominator = np.sqrt((B.y - A.y) ** 2 + (B.x - A.x) ** 2)\n",
    "    \n",
    "        return numerator / denominator\n",
    "    \n",
    "    def __find_hull(self, A: Vector2D, B: Vector2D, points: np.ndarray[Vector2D]) -> np.ndarray[Vector2D]:\n",
    "        if len(points) == 0:\n",
    "            return []\n",
    "        \n",
    "        # Find the point with maximum distance from the line AB\n",
    "        C = max(points, key=lambda p: self.__get_distance(A, B, p))\n",
    "    \n",
    "        return [C]\n",
    "        \n",
    "    \n",
    "    def __call__(self, points: np.ndarray[Vector2D]) -> np.ndarray[Vector2D]:\n",
    "        # Find the leftmost, rightmost, topmost and bottommost points\n",
    "        leftmost, rightmost = min(points, key=lambda p: p.x), max(points, key=lambda p: p.x)\n",
    "        topmost, bottommost = max(points, key=lambda p: p.y), min(points, key=lambda p: p.y)\n",
    "        \n",
    "        L1 = self.__find_hull(bottommost, leftmost, [p for p in points if CCW(bottommost, leftmost, p) > 0])\n",
    "        \n",
    "        return L1 + [leftmost] + [bottommost]"
   ]
  },
  {
   "cell_type": "code",
   "execution_count": 18,
   "id": "6b931e4c",
   "metadata": {},
   "outputs": [
    {
     "name": "stdout",
     "output_type": "stream",
     "text": [
      "[(0.002, 0.144), (0.001, 0.884), (0.563, 0.005)]\n"
     ]
    },
    {
     "data": {
      "image/png": "[encoded data removed]",
      "text/plain": [
       "<Figure size 640x480 with 1 Axes>"
      ]
     },
     "metadata": {},
     "output_type": "display_data"
    }
   ],
   "source": [
    "qh_algorithm = QuickHullAlgorithm()\n",
    "result = qh_algorithm(rectangle_points_set)\n",
    "print(result)\n",
    "\n",
    "hull = Convex_Hull(rectangle_points_set, result)\n",
    "hull.plot()\n"
   ]
  },
  {
   "cell_type": "code",
   "execution_count": null,
   "id": "a1d6c1b2",
   "metadata": {},
   "outputs": [],
   "source": []
  },
  {
   "cell_type": "code",
   "execution_count": null,
   "id": "81ef0b7b",
   "metadata": {},
   "outputs": [],
   "source": []
  },
  {
   "cell_type": "code",
   "execution_count": null,
   "id": "4f4dc1bc",
   "metadata": {},
   "outputs": [],
   "source": []
  },
  {
   "cell_type": "code",
   "execution_count": null,
   "id": "54e19760",
   "metadata": {},
   "outputs": [],
   "source": []
  },
  {
   "cell_type": "code",
   "execution_count": null,
   "id": "8db4271f",
   "metadata": {},
   "outputs": [],
   "source": []
  },
  {
   "cell_type": "code",
   "execution_count": null,
   "id": "9a5c39f7",
   "metadata": {},
   "outputs": [],
   "source": []
  },
  {
   "cell_type": "code",
   "execution_count": null,
   "id": "7e658e1b",
   "metadata": {},
   "outputs": [],
   "source": []
  },
  {
   "cell_type": "code",
   "execution_count": null,
   "id": "1e7762d7",
   "metadata": {},
   "outputs": [],
   "source": []
  },
  {
   "cell_type": "code",
   "execution_count": null,
   "id": "7ab8847d",
   "metadata": {},
   "outputs": [],
   "source": []
  },
  {
   "cell_type": "code",
   "execution_count": null,
   "id": "f11d91e2",
   "metadata": {},
   "outputs": [],
   "source": []
  },
  {
   "cell_type": "code",
   "execution_count": null,
   "id": "a6367009",
   "metadata": {},
   "outputs": [],
   "source": []
  },
  {
   "cell_type": "code",
   "execution_count": null,
   "id": "ffc68568",
   "metadata": {},
   "outputs": [],
   "source": []
  },
  {
   "cell_type": "code",
   "execution_count": null,
   "id": "3db481fb",
   "metadata": {},
   "outputs": [],
   "source": []
  },
  {
   "cell_type": "code",
   "execution_count": null,
   "id": "f594de3f",
   "metadata": {},
   "outputs": [],
   "source": []
  }
 ],
 "metadata": {
  "kernelspec": {
   "display_name": "Python (venv)",
   "language": "python",
   "name": "venv"
  },
  "language_info": {
   "codemirror_mode": {
    "name": "ipython",
    "version": 3
   },
   "file_extension": ".py",
   "mimetype": "text/x-python",
   "name": "python",
   "nbconvert_exporter": "python",
   "pygments_lexer": "ipython3",
   "version": "3.10.8"
  }
 },
 "nbformat": 4,
 "nbformat_minor": 5
}
