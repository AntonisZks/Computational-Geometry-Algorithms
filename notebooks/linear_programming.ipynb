{
 "cells": [
  {
   "cell_type": "markdown",
   "id": "d261fa0b",
   "metadata": {},
   "source": [
    "<div align=\"center\">\n",
    "    <h2>Υπολογιστική Γεωμετρία (Εργασία) - Γραμμικός Προγραμματισμός</h2>\n",
    "</div>"
   ]
  },
  {
   "cell_type": "markdown",
   "id": "a6d0dea5",
   "metadata": {},
   "source": [
    "Σε αυτό το notebook θα ασχοληθούμε με το δεύτερο μέρος της εργασίας το οποίο αφορά το **Γραμμικό Προγραμματισμό**. Συγκεκριμένα θα υλοποιήσουμε τον αυξητικό αλγόριθμο για την επίλυση ενός προβλήματος γραμμικού προγραμματισμού στο επίπεδο."
   ]
  },
  {
   "cell_type": "markdown",
   "id": "18cec969",
   "metadata": {},
   "source": [
    "### Κατασκευή Αυξητικού Αλγορίθμου"
   ]
  },
  {
   "cell_type": "code",
   "execution_count": 6,
   "id": "27427f6e",
   "metadata": {},
   "outputs": [],
   "source": [
    "import numpy as np\n",
    "\n",
    "class LP2D_Restriction:\n",
    "  def __init__(self, a_vector: np.ndarray[float], b: float):\n",
    "    self.a_vector = a_vector\n",
    "    self.b = b\n",
    "    \n",
    "class LP2D_ObjectiveFunction:\n",
    "  def __init__(self, c_vector: np.ndarray[float]):\n",
    "    self.c_vector = c_vector"
   ]
  },
  {
   "cell_type": "code",
   "execution_count": 7,
   "id": "30c34002",
   "metadata": {},
   "outputs": [],
   "source": [
    "class LP2D_SeidelAlgorithm:\n",
    "  def __call__(self, A: np.ndarray[np.ndarray[float]], b: np.ndarray[float], c: np.ndarray[float], d: int):\n",
    "    # Find the intersection points of the first d+1 constraints\n",
    "    intersection_points = []\n",
    "    if d == 2:\n",
    "      # Find the optimized vertex of the feasible region that the first 3 constraints define\n",
    "      constraints_a = A[0:d+3]\n",
    "      constraints_b = b[0:d+3]\n",
    "      \n",
    "      for i in range(d+3):\n",
    "        for j in range(i+1, d+3):\n",
    "          point = np.linalg.solve(\n",
    "            [constraints_a[i], constraints_a[j]], [constraints_b[i], constraints_b[j]]\n",
    "          )\n",
    "      \n",
    "          # Make sure that the intersection points satisfy the constraints     \n",
    "          if np.all(np.dot(constraints_a, point) <= constraints_b):\n",
    "            intersection_points.append(point)      \n",
    "    elif d == 1:\n",
    "      constraints_a = A\n",
    "      constraints_b = b\n",
    "      for i in range(len(constraints_a)):    \n",
    "        point = tuple([constraints_b[i]/constraints_a[i][0]])\n",
    "        intersection_points.append(point)\n",
    "          \n",
    "    # Check if the feasible region is unbounded\n",
    "    if not intersection_points:\n",
    "      return None\n",
    "    \n",
    "    # Find the intersection point that maximizes the objective function\n",
    "    optimized_point = min(intersection_points, key=lambda point: np.dot(c[:-1], point))\n",
    "    \n",
    "    # Use the remaining constraints to find the optimized point\n",
    "    for i in range(d+3, len(A)):\n",
    "      \n",
    "      constraints_a = np.append(constraints_a, [A[i]], axis=0)\n",
    "      constraints_b = np.append(constraints_b, b[i])\n",
    "      \n",
    "      # Check if the optimed point satisfies the new constraint\n",
    "      if np.dot(constraints_a[-1], optimized_point) <= constraints_b[-1]:\n",
    "        continue \n",
    "      else:\n",
    "        \n",
    "        # Solve the smaller problem to find the new optimized point\n",
    "        new_constraints_a = np.empty((0, 1), float)\n",
    "        new_constraints_b = np.empty((0,), float)\n",
    "        for j in range(i):\n",
    "          new_row = np.array([[constraints_a[j][0] - constraints_a[j][1] * (constraints_a[-1][0] / constraints_a[-1][1])]])\n",
    "          new_constraints_a = np.vstack([new_constraints_a, new_row])\n",
    "          new_constraints_b = np.append(new_constraints_b, constraints_b[j] - constraints_a[j][1] * (constraints_b[-1] / constraints_a[-1][1]))\n",
    "          \n",
    "        new_c = []\n",
    "        new_c.append(c[0] - c[1]*(constraints_a[-1][0]/constraints_a[-1][1]))\n",
    "        new_c.append(c[1]*(constraints_b[-1]/constraints_a[-1][1]) + c[2])\n",
    "        \n",
    "        new_optimized_point = self(new_constraints_a, new_constraints_b, new_c, d-1)\n",
    "        optimized_point = tuple(\n",
    "          np.append(\n",
    "            new_optimized_point,\n",
    "            ((constraints_a[-1][0] / (-constraints_a[-1][1]))*new_optimized_point[0]) + ((-constraints_b[-1]) / (-constraints_a[-1][1]))\n",
    "          )\n",
    "        )\n",
    "       \n",
    "    return optimized_point"
   ]
  },
  {
   "cell_type": "markdown",
   "id": "27ede260",
   "metadata": {},
   "source": [
    "Ας δοκιμάσουμε τον παραπάνω αλγόριθμο για μία **αντικειμενική συνάρτηση** (objective function) και **ορισμένους περιορισμούς** (constraints). Συγκεκριμένα τα δεδομένα που θα χρησιμοποιήσουμε θα είναι τα εξής:\n",
    "1. $\\max\\{3x_1 - 10x_2\\}$\n",
    "2. υπό τους περιορισμούς:\n",
    "    - $-2x_1 + x_2 \\leq 12$\n",
    "    - $x_1 -3x_2 \\geq -3$\n",
    "    - $6x_1 + 7x_2 \\leq 18$\n",
    "    - $-3x_1 + 12x_2 \\geq 8$\n",
    "    - $2x_1 - 7x_2 \\leq 35$\n",
    "    - $-x_1 + 8x_2 \\leq 29$\n",
    "    - $-2x_1 + 6x_2 \\geq -9$\n",
    "    - $x_1,x_2 \\geq 0$\n",
    "    \n",
    "Για να μπορέσουμε να λύσουμε το παραπάνω πρόβλημα γραμμικού προγραμματισμού, θα πρέπει να μετατρέψουμε τα δεδομένα μας σε κατάλληλη μορφή που επιτρέπει ο αλγόριθμος. Συγκεκριμένα θα πρέπει το πρόβλημά μας να έχει τη μορφή:\n",
    "\n",
    "$$\n",
    "  \\min\\{f(x)\\},\\ and\\ H_i(x) \\leq 0\\ for\\ \\ i=1,2,\\dots,n\n",
    "$$\n",
    "\n",
    "όπου $H_i(x)$ είναι οι $n$ περιορισμοί του προβλήματος και $f(x)$ η αντικειμενική συνάρτηση. Με βάση τη προηγούμενη μορφή το πρόβλημα που έχουμε να λύσουμε μετατρέπεται σε:\n",
    "1. $\\min\\{-3x_1 + 10x_2\\}$\n",
    "2. υπό τους περιορισμούς:\n",
    "    - $-2x_1 + x_2 -12 \\leq 0$\n",
    "    - $-x_1 + 3x_2 -3 \\leq 0$\n",
    "    - $6x_1 + 7x_2 - 18 \\leq 0$\n",
    "    - $3x_1 - 12x_2 + 8\\leq 0$\n",
    "    - $2x_1 - 7x_2 -35 \\leq 0$\n",
    "    - $-x_1 + 8x_2 -29 \\leq 0$\n",
    "    - $2x_1 - 6x_2 -9 \\leq 0$\n",
    "    - $-x_1 \\leq 0$\n",
    "    - $-x_2 \\leq 0$\n",
    "    \n",
    "Έχοντας μετατρέψει το πρόβλημά μας σε κατάλληλη μορφή για τον αλγόριθμο, ήρθε η ώρα να το λύσουμε. Ας περάσουμε τα δεδομένα μας στην Python."
   ]
  },
  {
   "cell_type": "code",
   "execution_count": 8,
   "id": "cd553610",
   "metadata": {},
   "outputs": [],
   "source": [
    "A = np.array([\n",
    "  [-1, 0],\n",
    "  [0, -1],\n",
    "  [-2, 1],\n",
    "  [-1, 3],\n",
    "  [6, 7],\n",
    "  [3, -12],\n",
    "  [2, -7],\n",
    "  [-1, 8],\n",
    "  [2, -6]\n",
    "])\n",
    "\n",
    "b = np.array([0, 0, 12, 3, 18, -8, 35, 29, 9])\n",
    "c = np.array([-3, 10, 0])"
   ]
  },
  {
   "cell_type": "markdown",
   "id": "18da0d62",
   "metadata": {},
   "source": [
    "και ας λύσουμε το πρόβλημα."
   ]
  },
  {
   "cell_type": "code",
   "execution_count": 9,
   "id": "580867d3",
   "metadata": {},
   "outputs": [
    {
     "name": "stdout",
     "output_type": "stream",
     "text": [
      "The optimized point is (1.7204301075268817, 1.096774193548387) and the optimized value is -5.806451612903225\n"
     ]
    }
   ],
   "source": [
    "lp2d_algorithm = LP2D_SeidelAlgorithm()\n",
    "optimized_point = lp2d_algorithm(A, b, c, 2)\n",
    "optimized_value = -(c[0]*optimized_point[0] + c[1]*optimized_point[1] + c[2])\n",
    "\n",
    "if optimized_point:\n",
    "  print(f\"The optimized point is ({optimized_point[0]}, {optimized_point[1]}) and the optimized value is {optimized_value}\")\n",
    "else:\n",
    "  print(\"The feasible region is unbounded\")"
   ]
  },
  {
   "cell_type": "markdown",
   "id": "e699c220",
   "metadata": {},
   "source": [
    "Όπως παρατηρούμε η λύση του παραπάνω προβλήματος γραμμικού προγραμματισμού είναι το σημείο $(1.72, 1.09)$ και η τιμή της αντικειμενικής συνάρτησης σε αυτό το σημείο είναι $-5.80$"
   ]
  },
  {
   "cell_type": "markdown",
   "id": "a3c2da5f",
   "metadata": {},
   "source": [
    "### Χρήση έτοιμης βιβλιοθήκης\n",
    "Τέλος θα χρησιμοποιήσουμε μία έτοιμη βιβλιοθήκη για την επίλυση του παραπάνω προβλήματος, έτσι ώστε να επαληθεύσουμε την ορθότητα της λύσης μας. Συγκεκριμένα θα χρησιμοποιήσουμε το **pulp**."
   ]
  },
  {
   "cell_type": "code",
   "execution_count": 10,
   "id": "5a54bab5",
   "metadata": {},
   "outputs": [
    {
     "name": "stdout",
     "output_type": "stream",
     "text": [
      "Optimal\n",
      "1.7204301 1.0967742 -5.806451700000001\n"
     ]
    }
   ],
   "source": [
    "# import the library pulp as p \n",
    "import pulp as p \n",
    "\n",
    "# Create a LP Minimization problem \n",
    "Lp_prob = p.LpProblem('Problem', p.LpMinimize) \n",
    "\n",
    "# Create problem Variables \n",
    "x1 = p.LpVariable(\"x1\", lowBound = 0) # Create a variable x >= 0 \n",
    "x2 = p.LpVariable(\"x2\", lowBound = 0) # Create a variable y >= 0 \n",
    "\n",
    "# Objective Function \n",
    "Lp_prob += -3*x1 + 10*x2 \n",
    "\n",
    "# Constraints:\n",
    "Lp_prob += -2*x1 + x2 <= 12\n",
    "Lp_prob += x1 - 3*x2 >= -3\n",
    "Lp_prob += 6*x1 + 7*x2 <= 18\n",
    "Lp_prob += -3*x1 + 12*x2 >= 8\n",
    "Lp_prob += 2*x1 - 7*x2 <= 35\n",
    "Lp_prob += -x1 + 8*x2 <= 29\n",
    "Lp_prob += -2*x1 + 6*x2 >= -9\n",
    "\n",
    "\n",
    "status = Lp_prob.solve() # Solver \n",
    "print(p.LpStatus[status]) # The solution status \n",
    "\n",
    "# Printing the final solution \n",
    "print(p.value(x1), p.value(x2), -p.value(Lp_prob.objective)) \n"
   ]
  },
  {
   "cell_type": "markdown",
   "id": "eb4cde4b",
   "metadata": {},
   "source": [
    "Όπως παρατηρούμε η λύση που επέφερε το pulp είναι ίδια με αυτή που βρήκαμε προηγουμένως."
   ]
  }
 ],
 "metadata": {
  "kernelspec": {
   "display_name": "Python 3 (ipykernel)",
   "language": "python",
   "name": "python3"
  },
  "language_info": {
   "codemirror_mode": {
    "name": "ipython",
    "version": 3
   },
   "file_extension": ".py",
   "mimetype": "text/x-python",
   "name": "python",
   "nbconvert_exporter": "python",
   "pygments_lexer": "ipython3",
   "version": "3.10.8"
  }
 },
 "nbformat": 4,
 "nbformat_minor": 5
}
