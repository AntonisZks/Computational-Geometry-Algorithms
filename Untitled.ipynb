{
 "cells": [
  {
   "cell_type": "markdown",
   "id": "2b6051c4",
   "metadata": {},
   "source": [
    "<div align=\"center\">\n",
    "    <h1>Υπολογιστική Γεωμετρία (1η Εργασία)</h1>\n",
    "</div>"
   ]
  },
  {
   "cell_type": "markdown",
   "id": "f3cea29e",
   "metadata": {},
   "source": [
    "### Ορισμός Σημείου (Point Definition)\n",
    "Θα ξεκινήσουμε την υλοποίησή μας ορίζοντας τη **γενική κλάση** που θα αναπαριστά ένα **σημείο** στο $\\mathbb{R}^2$ με συντεταγμένες $x$ και $y$."
   ]
  },
  {
   "cell_type": "code",
   "execution_count": 5,
   "id": "412da041",
   "metadata": {
    "hide_input": false
   },
   "outputs": [],
   "source": [
    "class Vector2D:\n",
    "    def __init__(self, x: float, y: float):\n",
    "        self.x = x\n",
    "        self.y = y\n",
    "\n",
    "    def __repr__(self):\n",
    "        return f\"({self.x:.3f}, {self.y:.3f})\"\n"
   ]
  },
  {
   "cell_type": "markdown",
   "id": "df73cb51",
   "metadata": {
    "hide_input": false
   },
   "source": [
    "### Ορισμός Κυρτού Περιβλήματος (Convex Hull Definition)\n",
    "Θα συνεχίσουμε ορίζοντας τη **κλάση** η οποία θα αναπαριστά ένα **κυρτό περίβλημα**, το οποίο θα αποτελείται από **σημεία** στον $\\mathbb{R}^2$ χώρο, καθώς και **ακμές** οι οποίες θα υποδηλώνουν τις άκρες του περιβλήματος."
   ]
  },
  {
   "cell_type": "code",
   "execution_count": 6,
   "id": "7038ffe6",
   "metadata": {
    "hide_input": false
   },
   "outputs": [],
   "source": [
    "import numpy as np\n",
    "from matplotlib import pyplot as plt\n",
    "\n",
    "class Convex_Hull:\n",
    "  def __init__(self, points: np.ndarray[Vector2D], edges: list[tuple[Vector2D, Vector2D]]):\n",
    "    self.points = points\n",
    "    self.edges = edges\n",
    "\n",
    "  def __repr__(self):\n",
    "    return f\"Convex_Hull\\n-points={self.points}\\n-edges={self.edges}\"\n",
    "  \n",
    "  def plot(self, plot_edges: bool = True):\n",
    "    \"\"\"\n",
    "    Plots the convex hull. This function will plot the points and edges of the convex hull.\n",
    "    \"\"\"\n",
    "    plt.figure()\n",
    "    plt.scatter([point.x for point in self.points], [point.y for point in self.points], color='#339AFF', s=10)\n",
    "\n",
    "    # Plot the edges of the convex hull if asked\n",
    "    if plot_edges:\n",
    "      for edge in self.edges:\n",
    "        plt.plot([edge[0].x, edge[1].x], [edge[0].y, edge[1].y], color='#FF7070')\n",
    "\n",
    "    plt.axis('off')\n",
    "    plt.show()"
   ]
  },
  {
   "cell_type": "markdown",
   "id": "b169996c",
   "metadata": {},
   "source": [
    "### Ορισμός Γενικής Έννοιας του Αλγορίθμου Εύρεσης ΚΠ2\n",
    "Στη συνέχεια θα ορίσουμε τη **γενική αφηρημένη κλάση** (abstract) του αλγορίθμου **εύρεσης** ενός **κυρτού περιβλήματος**. Κάθε αλγόριθμος που θα υλοποιήσουμε στη συνέχεια θα **κληρονομεί** αυτή την κλάση και δωσμένου ενός συνόλου από σημεία, θα υλοποιεί τη δικιά του μέθοδο εύρεσης του κυρτού περιβλήματος."
   ]
  },
  {
   "cell_type": "code",
   "execution_count": 7,
   "id": "7c590e26",
   "metadata": {},
   "outputs": [],
   "source": [
    "import numpy as np\n",
    "from abc import ABC, abstractmethod\n",
    "\n",
    "\n",
    "class ConvexHullSolutionAlgorithm(ABC):\n",
    "\n",
    "  @abstractmethod\n",
    "  def __call__(self, points: np.ndarray[Vector2D]) -> np.ndarray[Vector2D]:\n",
    "    ...\n"
   ]
  },
  {
   "cell_type": "code",
   "execution_count": 8,
   "id": "54c2fce5",
   "metadata": {},
   "outputs": [],
   "source": [
    "import numpy as np\n",
    "\n",
    "class GrahamScanAlgorithm(ConvexHullSolutionAlgorithm):\n",
    "\n",
    "  def __is_right_turn(self, p1: Vector2D, p2: Vector2D, p3: Vector2D) -> bool:\n",
    "    # Define the supporting matrix for the three points to determine the orientation of the points\n",
    "    matrix: np.ndarray[np.ndarray[float]] = np.array([\n",
    "      [1, p1.x, p1.y], \n",
    "      [1, p2.x, p2.y], \n",
    "      [1, p3.x, p3.y]\n",
    "    ])\n",
    "    return np.linalg.det(matrix) < 0\n",
    "  \n",
    "  def __construct_upper_hull(self, points: np.ndarray[Vector2D]) -> np.ndarray[Vector2D]:\n",
    "    L_upper: np.ndarray[Vector2D] = [points[0], points[1]]\n",
    "\n",
    "    # Construct the upper hull of the convex hull\n",
    "    for i in range(2, len(points)):\n",
    "      L_upper.append(points[i])\n",
    "      while len(L_upper) > 2 and not self.__is_right_turn(L_upper[-3], L_upper[-2], L_upper[-1]):\n",
    "        L_upper.pop(-2)\n",
    "\n",
    "    return L_upper\n",
    "  \n",
    "  def __construct_lower_hull(self, points: np.ndarray[Vector2D]) -> np.ndarray[Vector2D]:\n",
    "    L_lower: np.ndarray[Vector2D] = [points[-1], points[-2]]\n",
    "\n",
    "    # Construct the lower hull of the convex hull\n",
    "    for i in range(len(points) - 3, -1, -1):\n",
    "      L_lower.append(points[i])\n",
    "      while len(L_lower) > 2 and not self.__is_right_turn(L_lower[-3], L_lower[-2], L_lower[-1]):\n",
    "        L_lower.pop(-2)\n",
    "\n",
    "    # Remove the first and last points from L_lower to avoid duplication\n",
    "    L_lower.pop(0)\n",
    "    L_lower.pop(-1)\n",
    "\n",
    "    return L_lower\n",
    "\n",
    "  def __call__(self, points: np.ndarray[Vector2D]) -> np.ndarray[Vector2D]:\n",
    "    # Sort the points by their x-coordinate, then by their y-coordinate, and insert p1 and p2 to the L_upper set\n",
    "    points: np.ndarray[Vector2D] = sorted(points, key=lambda p: (p.x, p.y))\n",
    "    \n",
    "    # Construct the upper and lower hulls of the convex hull\n",
    "    L_upper: np.ndarray[Vector2D] = self.__construct_upper_hull(points)\n",
    "    L_lower: np.ndarray[Vector2D] = self.__construct_lower_hull(points)\n",
    "\n",
    "    # Merge the L_upper and L_lower sets to form the convex hull and return the result\n",
    "    L: np.ndarray[Vector2D] = L_upper + L_lower\n",
    "\n",
    "    return L"
   ]
  },
  {
   "cell_type": "code",
   "execution_count": 14,
   "id": "d4fadafb",
   "metadata": {},
   "outputs": [
    {
     "data": {
      "image/png": "[encoded data removed]",
      "text/plain": [
       "<Figure size 640x480 with 1 Axes>"
      ]
     },
     "metadata": {},
     "output_type": "display_data"
    }
   ],
   "source": [
    "import numpy as np\n",
    "\n",
    "\n",
    "if __name__ == \"__main__\":\n",
    "    # Generate a circular set of random 100 2D points\n",
    "    points: np.ndarray[Vector2D] = []\n",
    "    for i in range(100):\n",
    "        angle = np.random.uniform(0, 2 * np.pi)\n",
    "        radius = np.random.uniform(0, 1)\n",
    "        x = radius * np.cos(angle)\n",
    "        y = radius * np.sin(angle)\n",
    "        points.append(Vector2D(x, y))\n",
    "\n",
    "    algorithm = GrahamScanAlgorithm()\n",
    "\n",
    "    convex_hull_points: np.ndarray[Vector2D] = algorithm(points)\n",
    "    convex_hull_edges = []\n",
    "    for i in range(len(convex_hull_points) - 1):\n",
    "        convex_hull_edges.append((convex_hull_points[i], convex_hull_points[i + 1]))\n",
    "    convex_hull_edges.append((convex_hull_points[-1], convex_hull_points[0]))\n",
    "\n",
    "    convex_hull = Convex_Hull(points, convex_hull_edges)\n",
    "    convex_hull.plot()\n"
   ]
  },
  {
   "cell_type": "code",
   "execution_count": null,
   "id": "d093cc3d",
   "metadata": {},
   "outputs": [],
   "source": []
  }
 ],
 "metadata": {
  "kernelspec": {
   "display_name": "Python 3 (ipykernel)",
   "language": "python",
   "name": "python3"
  },
  "language_info": {
   "codemirror_mode": {
    "name": "ipython",
    "version": 3
   },
   "file_extension": ".py",
   "mimetype": "text/x-python",
   "name": "python",
   "nbconvert_exporter": "python",
   "pygments_lexer": "ipython3",
   "version": "3.10.8"
  }
 },
 "nbformat": 4,
 "nbformat_minor": 5
}
